{
 "cells": [
  {
   "cell_type": "code",
   "execution_count": 1,
   "id": "064a1e4a",
   "metadata": {},
   "outputs": [
    {
     "name": "stdout",
     "output_type": "stream",
     "text": [
      "Collecting flask\n",
      "  Downloading Flask-2.0.3-py3-none-any.whl (95 kB)\n",
      "Collecting click>=7.1.2\n",
      "  Downloading click-8.0.4-py3-none-any.whl (97 kB)\n",
      "Collecting Werkzeug>=2.0\n",
      "  Downloading Werkzeug-2.0.3-py3-none-any.whl (289 kB)\n",
      "Collecting itsdangerous>=2.0\n",
      "  Downloading itsdangerous-2.0.1-py3-none-any.whl (18 kB)\n",
      "Requirement already satisfied: Jinja2>=3.0 in c:\\users\\kibag\\anaconda3\\envs\\knock9and10\\lib\\site-packages (from flask) (3.0.1)\n",
      "Requirement already satisfied: importlib-metadata in c:\\users\\kibag\\anaconda3\\envs\\knock9and10\\lib\\site-packages (from click>=7.1.2->flask) (4.8.1)\n",
      "Requirement already satisfied: colorama in c:\\users\\kibag\\anaconda3\\envs\\knock9and10\\lib\\site-packages (from click>=7.1.2->flask) (0.4.4)\n",
      "Requirement already satisfied: MarkupSafe>=2.0 in c:\\users\\kibag\\anaconda3\\envs\\knock9and10\\lib\\site-packages (from Jinja2>=3.0->flask) (2.0.1)\n",
      "Collecting dataclasses\n",
      "  Downloading dataclasses-0.8-py3-none-any.whl (19 kB)\n",
      "Requirement already satisfied: typing-extensions>=3.6.4 in c:\\users\\kibag\\anaconda3\\envs\\knock9and10\\lib\\site-packages (from importlib-metadata->click>=7.1.2->flask) (3.10.0.2)\n",
      "Requirement already satisfied: zipp>=0.5 in c:\\users\\kibag\\anaconda3\\envs\\knock9and10\\lib\\site-packages (from importlib-metadata->click>=7.1.2->flask) (3.6.0)\n",
      "Installing collected packages: dataclasses, Werkzeug, itsdangerous, click, flask\n",
      "Successfully installed Werkzeug-2.0.3 click-8.0.4 dataclasses-0.8 flask-2.0.3 itsdangerous-2.0.1\n",
      "Collecting line-bot-sdk\n",
      "  Downloading line_bot_sdk-2.1.0-py2.py3-none-any.whl (83 kB)\n",
      "Collecting future\n",
      "  Downloading future-0.18.2.tar.gz (829 kB)\n",
      "Requirement already satisfied: requests>=2.0 in c:\\users\\kibag\\anaconda3\\envs\\knock9and10\\lib\\site-packages (from line-bot-sdk) (2.27.1)\n",
      "Collecting aiohttp>=3.7.4\n",
      "  Downloading aiohttp-3.8.1-cp36-cp36m-win_amd64.whl (551 kB)\n",
      "Collecting multidict<7.0,>=4.5\n",
      "  Downloading multidict-5.2.0-cp36-cp36m-win_amd64.whl (45 kB)\n",
      "Collecting idna-ssl>=1.0\n",
      "  Downloading idna-ssl-1.1.0.tar.gz (3.4 kB)\n",
      "Collecting frozenlist>=1.1.1\n",
      "  Downloading frozenlist-1.2.0-cp36-cp36m-win_amd64.whl (83 kB)\n",
      "Requirement already satisfied: attrs>=17.3.0 in c:\\users\\kibag\\anaconda3\\envs\\knock9and10\\lib\\site-packages (from aiohttp>=3.7.4->line-bot-sdk) (21.2.0)\n",
      "Collecting asynctest==0.13.0\n",
      "  Downloading asynctest-0.13.0-py3-none-any.whl (26 kB)\n",
      "Requirement already satisfied: typing-extensions>=3.7.4 in c:\\users\\kibag\\anaconda3\\envs\\knock9and10\\lib\\site-packages (from aiohttp>=3.7.4->line-bot-sdk) (3.10.0.2)\n",
      "Requirement already satisfied: charset-normalizer<3.0,>=2.0 in c:\\users\\kibag\\anaconda3\\envs\\knock9and10\\lib\\site-packages (from aiohttp>=3.7.4->line-bot-sdk) (2.0.12)\n",
      "Collecting async-timeout<5.0,>=4.0.0a3\n",
      "  Downloading async_timeout-4.0.2-py3-none-any.whl (5.8 kB)\n",
      "Collecting aiosignal>=1.1.2\n",
      "  Downloading aiosignal-1.2.0-py3-none-any.whl (8.2 kB)\n",
      "Collecting yarl<2.0,>=1.0\n",
      "  Downloading yarl-1.7.2-cp36-cp36m-win_amd64.whl (121 kB)\n",
      "Requirement already satisfied: idna>=2.0 in c:\\users\\kibag\\anaconda3\\envs\\knock9and10\\lib\\site-packages (from idna-ssl>=1.0->aiohttp>=3.7.4->line-bot-sdk) (3.3)\n",
      "Requirement already satisfied: urllib3<1.27,>=1.21.1 in c:\\users\\kibag\\anaconda3\\envs\\knock9and10\\lib\\site-packages (from requests>=2.0->line-bot-sdk) (1.26.9)\n",
      "Requirement already satisfied: certifi>=2017.4.17 in c:\\users\\kibag\\anaconda3\\envs\\knock9and10\\lib\\site-packages (from requests>=2.0->line-bot-sdk) (2021.5.30)\n",
      "Building wheels for collected packages: idna-ssl, future\n",
      "  Building wheel for idna-ssl (setup.py): started\n",
      "  Building wheel for idna-ssl (setup.py): finished with status 'done'\n",
      "  Created wheel for idna-ssl: filename=idna_ssl-1.1.0-py3-none-any.whl size=3178 sha256=75df6a177460f2f908f101d67db4d0d95b7524724cac34ccc29a1a0f1dedfbcb\n",
      "  Stored in directory: c:\\users\\kibag\\appdata\\local\\pip\\cache\\wheels\\6a\\f5\\9c\\f8331a854f7a8739cf0e74c13854e4dd7b1af11b04fe1dde13\n",
      "  Building wheel for future (setup.py): started\n",
      "  Building wheel for future (setup.py): finished with status 'done'\n",
      "  Created wheel for future: filename=future-0.18.2-py3-none-any.whl size=491070 sha256=11ead57a02407b2e5ca0eed0bc05aa6edef365b8532403428bed330a7ece4ebc\n",
      "  Stored in directory: c:\\users\\kibag\\appdata\\local\\pip\\cache\\wheels\\6e\\9c\\ed\\4499c9865ac1002697793e0ae05ba6be33553d098f3347fb94\n",
      "Successfully built idna-ssl future\n",
      "Installing collected packages: multidict, frozenlist, yarl, idna-ssl, asynctest, async-timeout, aiosignal, future, aiohttp, line-bot-sdk\n",
      "Successfully installed aiohttp-3.8.1 aiosignal-1.2.0 async-timeout-4.0.2 asynctest-0.13.0 frozenlist-1.2.0 future-0.18.2 idna-ssl-1.1.0 line-bot-sdk-2.1.0 multidict-5.2.0 yarl-1.7.2\n"
     ]
    }
   ],
   "source": [
    "!pip3 install flask\n",
    "!pip3 install line-bot-sdk"
   ]
  },
  {
   "cell_type": "code",
   "execution_count": 3,
   "id": "6d3b9478",
   "metadata": {},
   "outputs": [],
   "source": [
    "from flask import Flask, request, abort\n",
    "\n",
    "from linebot import (\n",
    "    LineBotApi, WebhookHandler\n",
    ")\n",
    "from linebot.exceptions import (\n",
    "    InvalidSignatureError\n",
    ")\n",
    "from linebot.models import (\n",
    "    MessageEvent, TextMessage, TextSendMessage,\n",
    ")"
   ]
  },
  {
   "cell_type": "code",
   "execution_count": 4,
   "id": "580d648a",
   "metadata": {},
   "outputs": [
    {
     "name": "stdout",
     "output_type": "stream",
     "text": [
      " * Serving Flask app '__main__' (lazy loading)\n",
      " * Environment: production\n",
      "\u001b[31m   WARNING: This is a development server. Do not use it in a production deployment.\u001b[0m\n",
      "\u001b[2m   Use a production WSGI server instead.\u001b[0m\n",
      " * Debug mode: off\n"
     ]
    },
    {
     "name": "stderr",
     "output_type": "stream",
     "text": [
      " * Running on http://127.0.0.1:5000/ (Press CTRL+C to quit)\n",
      "127.0.0.1 - - [29/Mar/2022 15:16:29] \"GET / HTTP/1.1\" 200 -\n"
     ]
    }
   ],
   "source": [
    "app = Flask(__name__)\n",
    "\n",
    "YOUR_CHANNEL_ACCESS_TOKEN = \"S2kdpFcQ1zbFjK7gT2e2wm77rApkKt5kXhSFZWws47G3RYTT98yC9RtgLUf/hHDAhjZ/6aGb6fR+DTzufnx2Id6pQOGwfb7swTiM6BqLopVFym4a+uqZn4TWFtekeufebGacamB/YfFPb8MMXmM3CAdB04t89/1O/w1cDnyilFU=\"\n",
    "YOUR_CHANNEL_SECRET = \"4cd570b0dc4fec2e75230368ed750bbd\"\n",
    "\n",
    "line_bot_api = LineBotApi(YOUR_CHANNEL_ACCESS_TOKEN)\n",
    "handler = WebhookHandler(YOUR_CHANNEL_SECRET)\n",
    "\n",
    "@app.route(\"/\")\n",
    "def hello():\n",
    "    return \"hello wo\"\n",
    "    \n",
    "\n",
    "@app.route(\"/callback\", methods=['POST'])\n",
    "def callback():\n",
    "    # get X-Line-Signature header value\n",
    "    signature = request.headers['X-Line-Signature']\n",
    "\n",
    "    # get request body as text\n",
    "    body = request.get_data(as_text=True)\n",
    "    app.logger.info(\"Request body: \" + body)\n",
    "\n",
    "    # handle webhook body\n",
    "    try:\n",
    "        handler.handle(body, signature)\n",
    "    except InvalidSignatureError:\n",
    "        print(\"Invalid signature. Please check your channel access token/channel secret.\")\n",
    "        abort(400)\n",
    "\n",
    "    return 'OK'\n",
    "\n",
    "\n",
    "@handler.add(MessageEvent, message=TextMessage)\n",
    "def handle_message(event):\n",
    "    line_bot_api.reply_message(\n",
    "        event.reply_token,\n",
    "        TextSendMessage(text=event.message.text))\n",
    "\n",
    "\n",
    "if __name__ == \"__main__\":\n",
    "    app.run()"
   ]
  },
  {
   "cell_type": "code",
   "execution_count": null,
   "id": "e04c1923",
   "metadata": {},
   "outputs": [],
   "source": []
  }
 ],
 "metadata": {
  "kernelspec": {
   "display_name": "Python 3",
   "language": "python",
   "name": "python3"
  },
  "language_info": {
   "codemirror_mode": {
    "name": "ipython",
    "version": 3
   },
   "file_extension": ".py",
   "mimetype": "text/x-python",
   "name": "python",
   "nbconvert_exporter": "python",
   "pygments_lexer": "ipython3",
   "version": "3.6.13"
  },
  "toc": {
   "base_numbering": 1,
   "nav_menu": {},
   "number_sections": true,
   "sideBar": true,
   "skip_h1_title": false,
   "title_cell": "Table of Contents",
   "title_sidebar": "Contents",
   "toc_cell": false,
   "toc_position": {},
   "toc_section_display": true,
   "toc_window_display": false
  },
  "varInspector": {
   "cols": {
    "lenName": 16,
    "lenType": 16,
    "lenVar": 40
   },
   "kernels_config": {
    "python": {
     "delete_cmd_postfix": "",
     "delete_cmd_prefix": "del ",
     "library": "var_list.py",
     "varRefreshCmd": "print(var_dic_list())"
    },
    "r": {
     "delete_cmd_postfix": ") ",
     "delete_cmd_prefix": "rm(",
     "library": "var_list.r",
     "varRefreshCmd": "cat(var_dic_list()) "
    }
   },
   "types_to_exclude": [
    "module",
    "function",
    "builtin_function_or_method",
    "instance",
    "_Feature"
   ],
   "window_display": false
  }
 },
 "nbformat": 4,
 "nbformat_minor": 5
}
