{
 "cells": [
  {
   "cell_type": "code",
   "execution_count": 1,
   "id": "e4c9378e",
   "metadata": {
    "scrolled": false
   },
   "outputs": [
    {
     "name": "stdout",
     "output_type": "stream",
     "text": [
      "Requirement already satisfied: selenium in c:\\users\\kibag\\anaconda3\\envs\\temperature-report\\lib\\site-packages (3.141.0)\n",
      "Requirement already satisfied: urllib3 in c:\\users\\kibag\\anaconda3\\envs\\temperature-report\\lib\\site-packages (from selenium) (1.26.9)\n"
     ]
    }
   ],
   "source": [
    "!pip install selenium"
   ]
  },
  {
   "cell_type": "code",
   "execution_count": 3,
   "id": "da9353f5",
   "metadata": {},
   "outputs": [],
   "source": [
    "from selenium import webdriver\n",
    "from time import sleep\n",
    "from selenium.webdriver.support.select import Select\n"
   ]
  },
  {
   "cell_type": "code",
   "execution_count": 4,
   "id": "9d385af3",
   "metadata": {
    "scrolled": false
   },
   "outputs": [],
   "source": [
    "driver = webdriver.Chrome(\"chromedriver.exe\")\n",
    "sleep(3)\n",
    "\n",
    "driver.get(\"https://lib02.tmd.ac.jp/webclass/login.php\")\n",
    "\n",
    "#ログイン\n",
    "driver.find_element_by_id(\"username\").send_keys(\"hnpn6664\")\n",
    "\n",
    "driver.find_element_by_id(\"password\").send_keys(\"Y.I.fuji3776tm\")\n",
    "\n",
    "driver.find_element_by_id(\"LoginBtn\").click()\n",
    "\n",
    "sleep(1)\n",
    "\n",
    "#M5 医学教務係からのお知らせ\n",
    "driver.get(\"https://lib02.tmd.ac.jp/webclass/course.php/11100202200FMS04100/?acs_=4abbf83e\")\n",
    "\n",
    "sleep(1)\n",
    "\n",
    "#体温体調報告\n",
    "driver.find_element_by_xpath(\"/html/body/main/div/div/div/div[3]/div/div[1]/div/section[1]/div[2]/section[1]/div/div[1]/h4/a\").click()\n",
    "\n",
    "sleep(1)\n",
    "\n",
    "#開始\n",
    "driver.get(\"https://lib02.tmd.ac.jp/webclass/show_info.php?set_contents_id=bcb0dfd3bd86a9821b767f8fd88bdd58&language=JAPANESE&rnd=7023b&content_mode=i\")\n",
    "\n",
    "driver.find_element_by_name(\"next\").click()\n",
    "\n",
    "sleep(1)\n",
    "\n",
    "driver.get(\"https://lib02.tmd.ac.jp/webclass/dqstn_answer_all.php?rnd=35e2a&set_contents_id=bcb0dfd3bd86a9821b767f8fd88bdd58&language=JAPANESE&content_mode=i&start_from_show_info=true&content_mode=q&acs_=b880ed03\")\n",
    "\n",
    "\n",
    "#設問1\n",
    "dropdown1 = driver.find_element_by_name(\"dropdown__1[]\")\n",
    "select = Select(dropdown1) \n",
    "select.select_by_index(1)\n",
    "\n",
    "#設問2\n",
    "dropdown2 = driver.find_element_by_name(\"dropdown__2[]\")\n",
    "select = Select(dropdown2) \n",
    "select.select_by_index(1)\n",
    "\n",
    "#設問3\n",
    "driver.find_element_by_name(\"radio__3\").click()\n",
    "\n",
    "#設問4\n",
    "driver.find_element_by_name(\"checkbox__4[]\").click()\n",
    "\n",
    "#設問5\n",
    "driver.find_element_by_name(\"radio__5\").click()\n",
    "\n",
    "sleep(1)\n",
    "\n",
    "#終了\n",
    "driver.find_element_by_id(\"GradeBtn\").click()\n",
    "\n",
    "#終了\n",
    "driver.execute_script(\"gradeAndClose()\")\n",
    "\n",
    "\n"
   ]
  },
  {
   "cell_type": "code",
   "execution_count": null,
   "id": "b679f6a6",
   "metadata": {},
   "outputs": [],
   "source": []
  },
  {
   "cell_type": "code",
   "execution_count": 13,
   "id": "a770dae2",
   "metadata": {},
   "outputs": [],
   "source": [
    "from datetime import datetime\n",
    "\n",
    "driver = webdriver.Chrome(\"chromedriver.exe\")\n",
    "sleep(3)\n",
    "\n",
    "driver.get(\"https://lib02.tmd.ac.jp/webclass/login.php\")\n",
    "\n",
    "#ログイン\n",
    "driver.find_element_by_id(\"username\").send_keys(\"hnpn6664\")\n",
    "\n",
    "driver.find_element_by_id(\"password\").send_keys(\"Y.I.fuji3776tm\")\n",
    "\n",
    "driver.find_element_by_id(\"LoginBtn\").click()\n",
    "\n",
    "sleep(1)\n",
    "\n",
    "#M5 医学教務係からのお知らせ\n",
    "driver.get(\"https://lib02.tmd.ac.jp/webclass/course.php/11100202200FMS04100/?acs_=4abbf83e\")\n",
    "\n",
    "sleep(1)\n",
    "\n",
    "driver.find_element_by_xpath(\"/html/body/main/div/div/div/div[3]/div/div[1]/div/section[1]/div[2]/section[1]/div/div[2]/div/div[1]/div/a\").click()\n",
    "\n",
    "sleep(2)\n",
    "\n",
    "driver.find_element_by_xpath(\"/html/body/main/div/ul/li[2]/a\").click()\n",
    "\n",
    "sleep(2)\n",
    "\n",
    "driver.find_element_by_xpath(\"/html/body/main/div/div/table/tbody/tr[1]/td[2]/a\").click()\n",
    "\n",
    "sleep(1)\n",
    "\n",
    "time = driver.find_element_by_xpath(\"/html/body/div[1]/div[2]/h3/div[2]\").text\n",
    "\n",
    "time = datetime.strptime(time, \"%Y-%m-%d\")"
   ]
  },
  {
   "cell_type": "code",
   "execution_count": 15,
   "id": "ff97822d",
   "metadata": {},
   "outputs": [
    {
     "data": {
      "text/plain": [
       "19"
      ]
     },
     "execution_count": 15,
     "metadata": {},
     "output_type": "execute_result"
    }
   ],
   "source": [
    "time.day"
   ]
  },
  {
   "cell_type": "code",
   "execution_count": 16,
   "id": "027f40d0",
   "metadata": {},
   "outputs": [
    {
     "data": {
      "text/plain": [
       "19"
      ]
     },
     "execution_count": 16,
     "metadata": {},
     "output_type": "execute_result"
    }
   ],
   "source": [
    "from datetime import date\n",
    "today = date.today()\n",
    "today.day"
   ]
  },
  {
   "cell_type": "code",
   "execution_count": null,
   "id": "ec0dd33c",
   "metadata": {},
   "outputs": [],
   "source": []
  },
  {
   "cell_type": "code",
   "execution_count": null,
   "id": "09a92264",
   "metadata": {},
   "outputs": [],
   "source": []
  },
  {
   "cell_type": "code",
   "execution_count": null,
   "id": "41fd331a",
   "metadata": {},
   "outputs": [],
   "source": []
  },
  {
   "cell_type": "code",
   "execution_count": null,
   "id": "328d8f51",
   "metadata": {},
   "outputs": [],
   "source": [
    "#終了\n",
    "driver.find_element_by_id(\"GradeBtn\").click()\n",
    "\n",
    "#終了\n",
    "driver.execute_script(\"gradeAndClose()\")"
   ]
  },
  {
   "cell_type": "code",
   "execution_count": null,
   "id": "b241ab1d",
   "metadata": {},
   "outputs": [],
   "source": [
    "https://lib02.tmd.ac.jp/webclass/course.php/11100202200FMS04100/?acs_=4abbf83e"
   ]
  },
  {
   "cell_type": "code",
   "execution_count": null,
   "id": "8d1f3312",
   "metadata": {},
   "outputs": [],
   "source": []
  },
  {
   "cell_type": "code",
   "execution_count": 3,
   "id": "8ad773ad",
   "metadata": {},
   "outputs": [],
   "source": [
    "driver = webdriver.Chrome(\"chromedriver.exe\")\n",
    "sleep(3)\n",
    "\n",
    "driver.get(\"https://lib02.tmd.ac.jp/webclass/login.php\")\n",
    "\n",
    "#ログイン\n",
    "driver.find_element_by_id(\"username\").send_keys(\"hnpn6664\")\n",
    "\n",
    "driver.find_element_by_id(\"password\").send_keys(\"Y.I.fuji3776tm\")\n",
    "\n",
    "driver.find_element_by_id(\"LoginBtn\").click()\n",
    "\n",
    "sleep(1)\n",
    "\n",
    "#M5 医学教務係からのお知らせ\n",
    "driver.get(\"https://lib02.tmd.ac.jp/webclass/course.php/11100202200FMS04100/?acs_=4abbf83e\")\n",
    "\n",
    "sleep(1)\n",
    "\n",
    "#体温体調報告\n",
    "driver.find_element_by_xpath(\"/html/body/main/div/div/div/div[3]/div/div[1]/div/section[1]/div[2]/section[1]/div/div[1]/h4/a\").click()\n",
    "\n",
    "sleep(1)\n",
    "\n",
    "#開始\n",
    "driver.get(\"https://lib02.tmd.ac.jp/webclass/show_info.php?set_contents_id=bcb0dfd3bd86a9821b767f8fd88bdd58&language=JAPANESE&rnd=7023b&content_mode=i\")\n",
    "\n",
    "driver.find_element_by_name(\"next\").click()\n",
    "\n",
    "sleep(1)\n",
    "\n",
    "driver.get(\"https://lib02.tmd.ac.jp/webclass/dqstn_answer_all.php?rnd=35e2a&set_contents_id=bcb0dfd3bd86a9821b767f8fd88bdd58&language=JAPANESE&content_mode=i&start_from_show_info=true&content_mode=q&acs_=b880ed03\")\n",
    "\n",
    "\n",
    "#設問1\n",
    "dropdown1 = driver.find_element_by_name(\"dropdown__1[]\")\n",
    "select = Select(dropdown1) \n",
    "select.select_by_index(1)\n",
    "\n",
    "#設問2\n",
    "dropdown2 = driver.find_element_by_name(\"dropdown__2[]\")\n",
    "select = Select(dropdown2) \n",
    "select.select_by_index(1)\n",
    "\n",
    "#設問3\n",
    "driver.find_element_by_name(\"radio__3\").click()\n",
    "\n",
    "#設問4\n",
    "driver.find_element_by_name(\"checkbox__4[]\").click()\n",
    "\n",
    "#設問5\n",
    "driver.find_element_by_name(\"radio__5\").click()\n",
    "\n",
    "sleep(1)\n"
   ]
  },
  {
   "cell_type": "code",
   "execution_count": null,
   "id": "982769b2",
   "metadata": {},
   "outputs": [],
   "source": []
  },
  {
   "cell_type": "code",
   "execution_count": 37,
   "id": "da75d8be",
   "metadata": {},
   "outputs": [],
   "source": [
    "driver = webdriver.Chrome(\"chromedriver.exe\")\n",
    "sleep(3)\n",
    "\n",
    "driver.get(\"https://lib02.tmd.ac.jp/webclass/login.php\")\n",
    "\n",
    "#ログイン\n",
    "driver.find_element_by_id(\"username\").send_keys(\"hnpn6664\")\n",
    "\n",
    "driver.find_element_by_id(\"password\").send_keys(\"Y.I.fuji3776tm\")\n",
    "\n",
    "driver.find_element_by_id(\"LoginBtn\").click()\n",
    "\n",
    "sleep(1)\n",
    "\n",
    "#M4 医学教務係からのお知らせ\n",
    "driver.find_element_by_xpath(\"/html/body/main/div/div/div/form/div[3]/ul/li[1]/ul/li/ul/li[3]/div/div/a\").click()\n",
    "\n",
    "sleep(1)\n",
    "\n",
    "#体温体調報告\n",
    "driver.find_element_by_xpath(\"/html/body/main/div/div/div/div[3]/div/div[1]/div/section[1]/div[2]/section[1]/div/div[1]/h4/a\").click()\n",
    "\n",
    "sleep(1)\n",
    "\n",
    "#開始\n",
    "driver.get(\"https://lib02.tmd.ac.jp/webclass/show_info.php?set_contents_id=065f1a02539273f1861a18045591bbf7&language=JAPANESE&rnd=3269e&content_mode=i\")\n",
    "\n",
    "driver.find_element_by_name(\"next\").click()\n",
    "\n",
    "sleep(1)\n",
    "\n",
    "driver.get(\"https://lib02.tmd.ac.jp/webclass/dqstn_answer_all.php?rnd=74d45&set_contents_id=065f1a02539273f1861a18045591bbf7&language=JAPANESE&content_mode=i&start_from_show_info=true&content_mode=q&acs_=a12476fa\")\n",
    "\n",
    "\n",
    "#設問1\n",
    "dropdown1 = driver.find_element_by_name(\"dropdown__1[]\")\n",
    "select = Select(dropdown1) \n",
    "select.select_by_index(1)\n",
    "\n",
    "#設問2\n",
    "dropdown2 = driver.find_element_by_name(\"dropdown__2[]\")\n",
    "select = Select(dropdown2) \n",
    "select.select_by_index(1)\n",
    "\n",
    "#設問3\n",
    "driver.find_element_by_name(\"radio__3\").click()\n",
    "\n",
    "#設問4\n",
    "driver.find_element_by_name(\"checkbox__4[]\").click()\n",
    "\n",
    "#設問5\n",
    "driver.find_element_by_name(\"radio__5\").click()\n",
    "\n",
    "sleep(1)\n",
    "\n",
    "#終了\n",
    "driver.find_element_by_id(\"GradeBtn\").click()\n",
    "\n",
    "#終了\n",
    "driver.execute_script(\"gradeAndClose()\")\n",
    "\n",
    "\n"
   ]
  },
  {
   "cell_type": "code",
   "execution_count": null,
   "id": "b3ed7d3f",
   "metadata": {},
   "outputs": [],
   "source": []
  },
  {
   "cell_type": "code",
   "execution_count": 3,
   "id": "73076275",
   "metadata": {},
   "outputs": [
    {
     "ename": "InvalidArgumentException",
     "evalue": "Message: invalid argument\n  (Session info: chrome=99.0.4844.84)\n",
     "output_type": "error",
     "traceback": [
      "\u001b[1;31m---------------------------------------------------------------------------\u001b[0m",
      "\u001b[1;31mInvalidArgumentException\u001b[0m                  Traceback (most recent call last)",
      "\u001b[1;32m<ipython-input-3-3cac616cdbbb>\u001b[0m in \u001b[0;36m<module>\u001b[1;34m\u001b[0m\n\u001b[0;32m     24\u001b[0m \u001b[1;33m\u001b[0m\u001b[0m\n\u001b[0;32m     25\u001b[0m \u001b[1;31m#開始\u001b[0m\u001b[1;33m\u001b[0m\u001b[1;33m\u001b[0m\u001b[1;33m\u001b[0m\u001b[0m\n\u001b[1;32m---> 26\u001b[1;33m \u001b[0mdriver\u001b[0m\u001b[1;33m.\u001b[0m\u001b[0mget\u001b[0m\u001b[1;33m(\u001b[0m\u001b[1;34m\"show_info.php?set_contents_id=065f1a02539273f1861a18045591bbf7&amp;language=JAPANESE&amp;rnd=2b520&amp;content_mode=i\"\u001b[0m\u001b[1;33m)\u001b[0m\u001b[1;33m\u001b[0m\u001b[1;33m\u001b[0m\u001b[0m\n\u001b[0m",
      "\u001b[1;32m~\\anaconda3\\envs\\knock9and10\\lib\\site-packages\\selenium\\webdriver\\remote\\webdriver.py\u001b[0m in \u001b[0;36mget\u001b[1;34m(self, url)\u001b[0m\n\u001b[0;32m    331\u001b[0m         \u001b[0mLoads\u001b[0m \u001b[0ma\u001b[0m \u001b[0mweb\u001b[0m \u001b[0mpage\u001b[0m \u001b[1;32min\u001b[0m \u001b[0mthe\u001b[0m \u001b[0mcurrent\u001b[0m \u001b[0mbrowser\u001b[0m \u001b[0msession\u001b[0m\u001b[1;33m.\u001b[0m\u001b[1;33m\u001b[0m\u001b[1;33m\u001b[0m\u001b[0m\n\u001b[0;32m    332\u001b[0m         \"\"\"\n\u001b[1;32m--> 333\u001b[1;33m         \u001b[0mself\u001b[0m\u001b[1;33m.\u001b[0m\u001b[0mexecute\u001b[0m\u001b[1;33m(\u001b[0m\u001b[0mCommand\u001b[0m\u001b[1;33m.\u001b[0m\u001b[0mGET\u001b[0m\u001b[1;33m,\u001b[0m \u001b[1;33m{\u001b[0m\u001b[1;34m'url'\u001b[0m\u001b[1;33m:\u001b[0m \u001b[0murl\u001b[0m\u001b[1;33m}\u001b[0m\u001b[1;33m)\u001b[0m\u001b[1;33m\u001b[0m\u001b[1;33m\u001b[0m\u001b[0m\n\u001b[0m\u001b[0;32m    334\u001b[0m \u001b[1;33m\u001b[0m\u001b[0m\n\u001b[0;32m    335\u001b[0m     \u001b[1;33m@\u001b[0m\u001b[0mproperty\u001b[0m\u001b[1;33m\u001b[0m\u001b[1;33m\u001b[0m\u001b[0m\n",
      "\u001b[1;32m~\\anaconda3\\envs\\knock9and10\\lib\\site-packages\\selenium\\webdriver\\remote\\webdriver.py\u001b[0m in \u001b[0;36mexecute\u001b[1;34m(self, driver_command, params)\u001b[0m\n\u001b[0;32m    319\u001b[0m         \u001b[0mresponse\u001b[0m \u001b[1;33m=\u001b[0m \u001b[0mself\u001b[0m\u001b[1;33m.\u001b[0m\u001b[0mcommand_executor\u001b[0m\u001b[1;33m.\u001b[0m\u001b[0mexecute\u001b[0m\u001b[1;33m(\u001b[0m\u001b[0mdriver_command\u001b[0m\u001b[1;33m,\u001b[0m \u001b[0mparams\u001b[0m\u001b[1;33m)\u001b[0m\u001b[1;33m\u001b[0m\u001b[1;33m\u001b[0m\u001b[0m\n\u001b[0;32m    320\u001b[0m         \u001b[1;32mif\u001b[0m \u001b[0mresponse\u001b[0m\u001b[1;33m:\u001b[0m\u001b[1;33m\u001b[0m\u001b[1;33m\u001b[0m\u001b[0m\n\u001b[1;32m--> 321\u001b[1;33m             \u001b[0mself\u001b[0m\u001b[1;33m.\u001b[0m\u001b[0merror_handler\u001b[0m\u001b[1;33m.\u001b[0m\u001b[0mcheck_response\u001b[0m\u001b[1;33m(\u001b[0m\u001b[0mresponse\u001b[0m\u001b[1;33m)\u001b[0m\u001b[1;33m\u001b[0m\u001b[1;33m\u001b[0m\u001b[0m\n\u001b[0m\u001b[0;32m    322\u001b[0m             response['value'] = self._unwrap_value(\n\u001b[0;32m    323\u001b[0m                 response.get('value', None))\n",
      "\u001b[1;32m~\\anaconda3\\envs\\knock9and10\\lib\\site-packages\\selenium\\webdriver\\remote\\errorhandler.py\u001b[0m in \u001b[0;36mcheck_response\u001b[1;34m(self, response)\u001b[0m\n\u001b[0;32m    240\u001b[0m                 \u001b[0malert_text\u001b[0m \u001b[1;33m=\u001b[0m \u001b[0mvalue\u001b[0m\u001b[1;33m[\u001b[0m\u001b[1;34m'alert'\u001b[0m\u001b[1;33m]\u001b[0m\u001b[1;33m.\u001b[0m\u001b[0mget\u001b[0m\u001b[1;33m(\u001b[0m\u001b[1;34m'text'\u001b[0m\u001b[1;33m)\u001b[0m\u001b[1;33m\u001b[0m\u001b[1;33m\u001b[0m\u001b[0m\n\u001b[0;32m    241\u001b[0m             \u001b[1;32mraise\u001b[0m \u001b[0mexception_class\u001b[0m\u001b[1;33m(\u001b[0m\u001b[0mmessage\u001b[0m\u001b[1;33m,\u001b[0m \u001b[0mscreen\u001b[0m\u001b[1;33m,\u001b[0m \u001b[0mstacktrace\u001b[0m\u001b[1;33m,\u001b[0m \u001b[0malert_text\u001b[0m\u001b[1;33m)\u001b[0m\u001b[1;33m\u001b[0m\u001b[1;33m\u001b[0m\u001b[0m\n\u001b[1;32m--> 242\u001b[1;33m         \u001b[1;32mraise\u001b[0m \u001b[0mexception_class\u001b[0m\u001b[1;33m(\u001b[0m\u001b[0mmessage\u001b[0m\u001b[1;33m,\u001b[0m \u001b[0mscreen\u001b[0m\u001b[1;33m,\u001b[0m \u001b[0mstacktrace\u001b[0m\u001b[1;33m)\u001b[0m\u001b[1;33m\u001b[0m\u001b[1;33m\u001b[0m\u001b[0m\n\u001b[0m\u001b[0;32m    243\u001b[0m \u001b[1;33m\u001b[0m\u001b[0m\n\u001b[0;32m    244\u001b[0m     \u001b[1;32mdef\u001b[0m \u001b[0m_value_or_default\u001b[0m\u001b[1;33m(\u001b[0m\u001b[0mself\u001b[0m\u001b[1;33m,\u001b[0m \u001b[0mobj\u001b[0m\u001b[1;33m,\u001b[0m \u001b[0mkey\u001b[0m\u001b[1;33m,\u001b[0m \u001b[0mdefault\u001b[0m\u001b[1;33m)\u001b[0m\u001b[1;33m:\u001b[0m\u001b[1;33m\u001b[0m\u001b[1;33m\u001b[0m\u001b[0m\n",
      "\u001b[1;31mInvalidArgumentException\u001b[0m: Message: invalid argument\n  (Session info: chrome=99.0.4844.84)\n"
     ]
    }
   ],
   "source": [
    "driver = webdriver.Chrome(\"chromedriver.exe\")\n",
    "sleep(3)\n",
    "\n",
    "driver.get(\"https://lib02.tmd.ac.jp/webclass/login.php\")\n",
    "\n",
    "#ログイン\n",
    "driver.find_element_by_id(\"username\").send_keys(\"hnpn6664\")\n",
    "\n",
    "driver.find_element_by_id(\"password\").send_keys(\"Y.I.fuji3776tm\")\n",
    "\n",
    "driver.find_element_by_id(\"LoginBtn\").click()\n",
    "\n",
    "sleep(1)\n",
    "\n",
    "#M4 医学教務係からのお知らせ\n",
    "driver.find_element_by_xpath(\"/html/body/main/div/div/div/form/div[3]/ul/li[1]/ul/li/ul/li[3]/div/div/a\").click()\n",
    "\n",
    "sleep(1)\n",
    "\n",
    "#体温体調報告\n",
    "driver.find_element_by_xpath(\"/html/body/main/div/div/div/div[3]/div/div[1]/div/section[1]/div[2]/section[1]/div/div[1]/h4/a\").click()\n",
    "\n",
    "sleep(1)\n",
    "\n",
    "#開始\n",
    "driver.get(\"show_info.php?set_contents_id=065f1a02539273f1861a18045591bbf7&amp;language=JAPANESE&amp;rnd=2b520&amp;content_mode=i\")\n"
   ]
  },
  {
   "cell_type": "code",
   "execution_count": null,
   "id": "9278488e",
   "metadata": {},
   "outputs": [],
   "source": []
  },
  {
   "cell_type": "code",
   "execution_count": null,
   "id": "6e1ea895",
   "metadata": {},
   "outputs": [],
   "source": []
  },
  {
   "cell_type": "code",
   "execution_count": 44,
   "id": "58f4a4ac",
   "metadata": {},
   "outputs": [],
   "source": [
    "handle_array = driver.window_handles\n",
    "\n",
    "print(handle_array)"
   ]
  },
  {
   "cell_type": "code",
   "execution_count": null,
   "id": "ac9b94f6",
   "metadata": {},
   "outputs": [],
   "source": [
    "element = driver.find_element_by_xpath(\"/html/body/div[1]/table/tbody/tr/td[2]/form/table[2]/tbody/tr/td/input[1]\")\n",
    "onclick = element.get_attribute(\"startContent()\")\n",
    "driver.execute_script(onclick)"
   ]
  },
  {
   "cell_type": "code",
   "execution_count": null,
   "id": "3f215bcf",
   "metadata": {},
   "outputs": [],
   "source": [
    "print(driver.page_source)"
   ]
  },
  {
   "cell_type": "code",
   "execution_count": null,
   "id": "9507ca41",
   "metadata": {},
   "outputs": [],
   "source": [
    "elm = driver.find_elements_by_name(\"quit_contents\")\n",
    "\n",
    "print(elm)"
   ]
  }
 ],
 "metadata": {
  "kernelspec": {
   "display_name": "Python 3",
   "language": "python",
   "name": "python3"
  },
  "language_info": {
   "codemirror_mode": {
    "name": "ipython",
    "version": 3
   },
   "file_extension": ".py",
   "mimetype": "text/x-python",
   "name": "python",
   "nbconvert_exporter": "python",
   "pygments_lexer": "ipython3",
   "version": "3.6.13"
  },
  "toc": {
   "base_numbering": 1,
   "nav_menu": {},
   "number_sections": true,
   "sideBar": true,
   "skip_h1_title": false,
   "title_cell": "Table of Contents",
   "title_sidebar": "Contents",
   "toc_cell": false,
   "toc_position": {},
   "toc_section_display": true,
   "toc_window_display": false
  },
  "varInspector": {
   "cols": {
    "lenName": 16,
    "lenType": 16,
    "lenVar": 40
   },
   "kernels_config": {
    "python": {
     "delete_cmd_postfix": "",
     "delete_cmd_prefix": "del ",
     "library": "var_list.py",
     "varRefreshCmd": "print(var_dic_list())"
    },
    "r": {
     "delete_cmd_postfix": ") ",
     "delete_cmd_prefix": "rm(",
     "library": "var_list.r",
     "varRefreshCmd": "cat(var_dic_list()) "
    }
   },
   "types_to_exclude": [
    "module",
    "function",
    "builtin_function_or_method",
    "instance",
    "_Feature"
   ],
   "window_display": false
  }
 },
 "nbformat": 4,
 "nbformat_minor": 5
}
